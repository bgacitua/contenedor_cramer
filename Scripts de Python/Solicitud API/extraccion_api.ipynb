{
 "cells": [
  {
   "cell_type": "code",
   "execution_count": null,
   "id": "91a9cac2",
   "metadata": {},
   "outputs": [
    {
     "name": "stdout",
     "output_type": "stream",
     "text": [
      "Error al obtener datos de la API: 404 Client Error: Not Found for url: https://cramer.buk.cl/api/v1/chile\n"
     ]
    },
    {
     "ename": "NameError",
     "evalue": "name 'data_from_api' is not defined",
     "output_type": "error",
     "traceback": [
      "\u001b[1;31m---------------------------------------------------------------------------\u001b[0m",
      "\u001b[1;31mNameError\u001b[0m                                 Traceback (most recent call last)",
      "Cell \u001b[1;32mIn[1], line 26\u001b[0m\n\u001b[0;32m     22\u001b[0m cursor \u001b[38;5;241m=\u001b[39m connection\u001b[38;5;241m.\u001b[39mcursor()\n\u001b[0;32m     24\u001b[0m \u001b[38;5;66;03m# 3. Insertar datos en la base de datos (ejemplo simplificado)\u001b[39;00m\n\u001b[0;32m     25\u001b[0m \u001b[38;5;66;03m# Suponiendo que los datos de la API son una lista de diccionarios\u001b[39;00m\n\u001b[1;32m---> 26\u001b[0m \u001b[38;5;28;01mfor\u001b[39;00m item \u001b[38;5;129;01min\u001b[39;00m data_from_api:\n\u001b[0;32m     27\u001b[0m     sql \u001b[38;5;241m=\u001b[39m \u001b[38;5;124m\"\u001b[39m\u001b[38;5;124mINSERT INTO tu_tabla (columna1, columna2) VALUES (\u001b[39m\u001b[38;5;132;01m%s\u001b[39;00m\u001b[38;5;124m, \u001b[39m\u001b[38;5;132;01m%s\u001b[39;00m\u001b[38;5;124m)\u001b[39m\u001b[38;5;124m\"\u001b[39m\n\u001b[0;32m     28\u001b[0m     val \u001b[38;5;241m=\u001b[39m (item[\u001b[38;5;124m'\u001b[39m\u001b[38;5;124mvalor1\u001b[39m\u001b[38;5;124m'\u001b[39m], item[\u001b[38;5;124m'\u001b[39m\u001b[38;5;124mvalor2\u001b[39m\u001b[38;5;124m'\u001b[39m]) \u001b[38;5;66;03m# Reemplaza 'valor1' y 'valor2' por las claves de tu JSON\u001b[39;00m\n",
      "\u001b[1;31mNameError\u001b[0m: name 'data_from_api' is not defined"
     ]
    },
    {
     "ename": "",
     "evalue": "",
     "output_type": "error",
     "traceback": [
      "\u001b[1;31mEl kernel se bloqueó al ejecutar código en la celda actual o en una celda anterior. \n",
      "\u001b[1;31mRevise el código de las celdas para identificar una posible causa del error. \n",
      "\u001b[1;31mHaga clic <a href='https://aka.ms/vscodeJupyterKernelCrash'>aquí</a> para obtener más información. \n",
      "\u001b[1;31mVea Jupyter <a href='command:jupyter.viewOutput'>log</a> para obtener más detalles."
     ]
    }
   ],
   "source": [
    "import requests\n",
    "import mysql.connector\n",
    "\n",
    "# 1. Obtener datos de la API\n",
    "try:\n",
    "    api_url = \"https://cramer.buk.cl/api/v1/chile\"\n",
    "    response = requests.get(api_url)\n",
    "    response.raise_for_status()  # Lanza un error para códigos de estado HTTP incorrectos\n",
    "    data_from_api = response.json()\n",
    "except requests.exceptions.RequestException as e:\n",
    "    print(f\"Error al obtener datos de la API: {e}\")\n",
    "    exit()\n",
    "\n",
    "# 2. Conectar a la base de datos\n",
    "try:\n",
    "    connection = mysql.connector.connect(\n",
    "        host=\"localhost\",\n",
    "        user=\"root\",\n",
    "        password=\"_Cramer2025_\",\n",
    "        database=\"rrhh_app\"\n",
    "    )\n",
    "    cursor = connection.cursor()\n",
    "\n",
    "    # 3. Insertar datos en la base de datos (ejemplo simplificado)\n",
    "    # Suponiendo que los datos de la API son una lista de diccionarios\n",
    "    for item in data_from_api:\n",
    "        sql = \"INSERT INTO tu_tabla (columna1, columna2) VALUES (%s, %s)\"\n",
    "        val = (item['valor1'], item['valor2']) # Reemplaza 'valor1' y 'valor2' por las claves de tu JSON\n",
    "        cursor.execute(sql, val)\n",
    "\n",
    "    connection.commit()\n",
    "    print(\"Datos insertados con éxito.\")\n",
    "\n",
    "except mysql.connector.Error as e:\n",
    "    print(f\"Error al conectar o insertar datos: {e}\")\n",
    "\n",
    "finally:\n",
    "    if 'connection' in locals() and connection.is_connected():\n",
    "        cursor.close()\n",
    "        connection.close()"
   ]
  }
 ],
 "metadata": {
  "kernelspec": {
   "display_name": "base",
   "language": "python",
   "name": "python3"
  },
  "language_info": {
   "codemirror_mode": {
    "name": "ipython",
    "version": 3
   },
   "file_extension": ".py",
   "mimetype": "text/x-python",
   "name": "python",
   "nbconvert_exporter": "python",
   "pygments_lexer": "ipython3",
   "version": "3.13.5"
  }
 },
 "nbformat": 4,
 "nbformat_minor": 5
}
